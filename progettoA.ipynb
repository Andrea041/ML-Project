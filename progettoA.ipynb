{
 "cells": [
  {
   "cell_type": "code",
   "execution_count": 1,
   "id": "684e1af6-0d53-473b-84b1-1a294db05790",
   "metadata": {},
   "outputs": [],
   "source": [
    "import pandas as pd\n",
    "import os\n",
    "import numpy as np\n",
    "import tensorflow as tf\n",
    "from tensorflow import keras\n",
    "\n",
    "np.random.seed(42)\n",
    "tf.random.set_seed(42)\n",
    "\n",
    "df = pd.read_csv(\"emnist-letters.csv\")\n",
    "\n",
    "X = df.iloc[:,1:].to_numpy().reshape(-1, 28, 28, order=\"F\")\n",
    "\n",
    "y = df.iloc[:,0].to_numpy()-1  "
   ]
  },
  {
   "cell_type": "code",
   "execution_count": 2,
   "id": "cb6ce525-2dfb-4dc6-860d-75e1045e1491",
   "metadata": {},
   "outputs": [
    {
     "data": {
      "text/plain": [
       "(88799, 28, 28)"
      ]
     },
     "execution_count": 2,
     "metadata": {},
     "output_type": "execute_result"
    }
   ],
   "source": [
    "X.shape"
   ]
  },
  {
   "cell_type": "code",
   "execution_count": 3,
   "id": "e34cd8ef-827a-4c4d-89d8-47958f742288",
   "metadata": {},
   "outputs": [
    {
     "data": {
      "text/plain": [
       "(88799,)"
      ]
     },
     "execution_count": 3,
     "metadata": {},
     "output_type": "execute_result"
    }
   ],
   "source": [
    "y.shape"
   ]
  },
  {
   "cell_type": "code",
   "execution_count": 4,
   "id": "4c579721-43ee-436d-bb48-03dcf77a4f18",
   "metadata": {},
   "outputs": [],
   "source": [
    "# validation set, training set, test set (8800; 20000; 60000)\n",
    "X_test, X_valid, X_train = X[:8799] / 255., X[8799:28799] / 255., X[28799:] / 255.\n",
    "\n",
    "# validation set, training set, test set\n",
    "y_test, y_valid, y_train = y[:8799], y[8799:28799], y[28799:]"
   ]
  },
  {
   "cell_type": "code",
   "execution_count": 5,
   "id": "25d3b595-e051-4537-b46b-776d15fbac56",
   "metadata": {},
   "outputs": [],
   "source": [
    "classes = [\"a\", \"b\", \"c\", \"d\", \"e\", \"f\", \"g\", \"h\", \"i\", \"j\", \"k\", \"l\", \"m\",\n",
    "           \"n\", \"o\", \"p\", \"q\", \"r\", \"s\", \"t\", \"u\", \"v\", \"w\", \"x\", \"y\", \"z\"]"
   ]
  },
  {
   "cell_type": "code",
   "execution_count": 6,
   "id": "4467c733-df2c-4410-974a-7945df8cb11e",
   "metadata": {},
   "outputs": [
    {
     "name": "stderr",
     "output_type": "stream",
     "text": [
      "2024-02-05 23:07:41.398467: I metal_plugin/src/device/metal_device.cc:1154] Metal device set to: Apple M1 Pro\n",
      "2024-02-05 23:07:41.398491: I metal_plugin/src/device/metal_device.cc:296] systemMemory: 16.00 GB\n",
      "2024-02-05 23:07:41.398496: I metal_plugin/src/device/metal_device.cc:313] maxCacheSize: 5.33 GB\n",
      "2024-02-05 23:07:41.398528: I tensorflow/core/common_runtime/pluggable_device/pluggable_device_factory.cc:306] Could not identify NUMA node of platform GPU ID 0, defaulting to 0. Your kernel may not have been built with NUMA support.\n",
      "2024-02-05 23:07:41.398541: I tensorflow/core/common_runtime/pluggable_device/pluggable_device_factory.cc:272] Created TensorFlow device (/job:localhost/replica:0/task:0/device:GPU:0 with 0 MB memory) -> physical PluggableDevice (device: 0, name: METAL, pci bus id: <undefined>)\n"
     ]
    },
    {
     "name": "stdout",
     "output_type": "stream",
     "text": [
      "Model: \"sequential\"\n",
      "_________________________________________________________________\n",
      " Layer (type)                Output Shape              Param #   \n",
      "=================================================================\n",
      " conv2d (Conv2D)             (None, 28, 28, 6)         156       \n",
      "                                                                 \n",
      " average_pooling2d (AverageP  (None, 14, 14, 6)        0         \n",
      " ooling2D)                                                       \n",
      "                                                                 \n",
      " conv2d_1 (Conv2D)           (None, 10, 10, 16)        2416      \n",
      "                                                                 \n",
      " average_pooling2d_1 (Averag  (None, 5, 5, 16)         0         \n",
      " ePooling2D)                                                     \n",
      "                                                                 \n",
      " flatten (Flatten)           (None, 400)               0         \n",
      "                                                                 \n",
      " dense (Dense)               (None, 120)               48120     \n",
      "                                                                 \n",
      " dropout (Dropout)           (None, 120)               0         \n",
      "                                                                 \n",
      " dense_1 (Dense)             (None, 84)                10164     \n",
      "                                                                 \n",
      " dropout_1 (Dropout)         (None, 84)                0         \n",
      "                                                                 \n",
      " dense_2 (Dense)             (None, 26)                2210      \n",
      "                                                                 \n",
      "=================================================================\n",
      "Total params: 63,066\n",
      "Trainable params: 63,066\n",
      "Non-trainable params: 0\n",
      "_________________________________________________________________\n"
     ]
    }
   ],
   "source": [
    "lenet = tf.keras.models.Sequential([\n",
    "            tf.keras.layers.Conv2D(filters=6, kernel_size=5, activation='sigmoid', padding='same', input_shape=(28, 28, 1)), # input_shape=(28,28,1) l'immagine ha un solo canale poichè è in scala di grigi\n",
    "            tf.keras.layers.AvgPool2D(pool_size=2, strides=2),\n",
    "            tf.keras.layers.Conv2D(filters=16, kernel_size=5,activation='sigmoid'),\n",
    "            tf.keras.layers.AvgPool2D(pool_size=2, strides=2),\n",
    "            tf.keras.layers.Flatten(),\n",
    "            tf.keras.layers.Dense(120, activation='sigmoid'),\n",
    "            tf.keras.layers.Dropout(0.5),\n",
    "            tf.keras.layers.Dense(84, activation='sigmoid'),\n",
    "            tf.keras.layers.Dropout(0.5),\n",
    "            tf.keras.layers.Dense(26, activation=\"softmax\")])\n",
    "\n",
    "lenet.compile(loss=\"sparse_categorical_crossentropy\",\n",
    "              optimizer=\"adam\",\n",
    "              metrics=[\"accuracy\"])\n",
    "\n",
    "lenet.summary()"
   ]
  },
  {
   "cell_type": "code",
   "execution_count": 7,
   "id": "3788ad8d-bf81-4e18-a241-7c675886092f",
   "metadata": {},
   "outputs": [
    {
     "name": "stdout",
     "output_type": "stream",
     "text": [
      "Epoch 1/45\n"
     ]
    },
    {
     "name": "stderr",
     "output_type": "stream",
     "text": [
      "2024-02-05 23:07:41.825055: W tensorflow/tsl/platform/profile_utils/cpu_utils.cc:128] Failed to get CPU frequency: 0 Hz\n",
      "2024-02-05 23:07:42.007489: I tensorflow/core/grappler/optimizers/custom_graph_optimizer_registry.cc:114] Plugin optimizer for device_type GPU is enabled.\n"
     ]
    },
    {
     "name": "stdout",
     "output_type": "stream",
     "text": [
      "1872/1875 [============================>.] - ETA: 0s - loss: 3.0483 - accuracy: 0.1018"
     ]
    },
    {
     "name": "stderr",
     "output_type": "stream",
     "text": [
      "2024-02-05 23:07:56.822558: I tensorflow/core/grappler/optimizers/custom_graph_optimizer_registry.cc:114] Plugin optimizer for device_type GPU is enabled.\n"
     ]
    },
    {
     "name": "stdout",
     "output_type": "stream",
     "text": [
      "1875/1875 [==============================] - 17s 9ms/step - loss: 3.0464 - accuracy: 0.1023 - val_loss: 1.8172 - val_accuracy: 0.4841\n",
      "Epoch 2/45\n",
      "1875/1875 [==============================] - 17s 9ms/step - loss: 1.3729 - accuracy: 0.5907 - val_loss: 0.9444 - val_accuracy: 0.7121\n",
      "Epoch 3/45\n",
      "1875/1875 [==============================] - 17s 9ms/step - loss: 0.8788 - accuracy: 0.7354 - val_loss: 0.6585 - val_accuracy: 0.7984\n",
      "Epoch 4/45\n",
      "1875/1875 [==============================] - 17s 9ms/step - loss: 0.6777 - accuracy: 0.7933 - val_loss: 0.5563 - val_accuracy: 0.8304\n",
      "Epoch 5/45\n",
      "1875/1875 [==============================] - 17s 9ms/step - loss: 0.5661 - accuracy: 0.8258 - val_loss: 0.4628 - val_accuracy: 0.8544\n",
      "Epoch 6/45\n",
      "1875/1875 [==============================] - 17s 9ms/step - loss: 0.5006 - accuracy: 0.8462 - val_loss: 0.4202 - val_accuracy: 0.8698\n",
      "Epoch 7/45\n",
      "1875/1875 [==============================] - 17s 9ms/step - loss: 0.4524 - accuracy: 0.8596 - val_loss: 0.4019 - val_accuracy: 0.8745\n",
      "Epoch 8/45\n",
      "1875/1875 [==============================] - 17s 9ms/step - loss: 0.4212 - accuracy: 0.8692 - val_loss: 0.3593 - val_accuracy: 0.8867\n",
      "Epoch 9/45\n",
      "1875/1875 [==============================] - 17s 9ms/step - loss: 0.3975 - accuracy: 0.8756 - val_loss: 0.3526 - val_accuracy: 0.8870\n",
      "Epoch 10/45\n",
      "1875/1875 [==============================] - 17s 9ms/step - loss: 0.3788 - accuracy: 0.8805 - val_loss: 0.3298 - val_accuracy: 0.8945\n",
      "Epoch 11/45\n",
      "1875/1875 [==============================] - 17s 9ms/step - loss: 0.3610 - accuracy: 0.8871 - val_loss: 0.3305 - val_accuracy: 0.8961\n",
      "Epoch 12/45\n",
      "1875/1875 [==============================] - 17s 9ms/step - loss: 0.3468 - accuracy: 0.8902 - val_loss: 0.3030 - val_accuracy: 0.9044\n",
      "Epoch 13/45\n",
      "1875/1875 [==============================] - 17s 9ms/step - loss: 0.3360 - accuracy: 0.8927 - val_loss: 0.2904 - val_accuracy: 0.9095\n",
      "Epoch 14/45\n",
      "1875/1875 [==============================] - 17s 9ms/step - loss: 0.3261 - accuracy: 0.8962 - val_loss: 0.2962 - val_accuracy: 0.9057\n",
      "Epoch 15/45\n",
      "1875/1875 [==============================] - 17s 9ms/step - loss: 0.3160 - accuracy: 0.8996 - val_loss: 0.2892 - val_accuracy: 0.9067\n",
      "Epoch 16/45\n",
      "1875/1875 [==============================] - 17s 9ms/step - loss: 0.3074 - accuracy: 0.9010 - val_loss: 0.2766 - val_accuracy: 0.9111\n",
      "Epoch 17/45\n",
      "1875/1875 [==============================] - 17s 9ms/step - loss: 0.2997 - accuracy: 0.9032 - val_loss: 0.2796 - val_accuracy: 0.9108\n",
      "Epoch 18/45\n",
      "1875/1875 [==============================] - 17s 9ms/step - loss: 0.2915 - accuracy: 0.9064 - val_loss: 0.2839 - val_accuracy: 0.9056\n",
      "Epoch 19/45\n",
      "1875/1875 [==============================] - 17s 9ms/step - loss: 0.2879 - accuracy: 0.9069 - val_loss: 0.2742 - val_accuracy: 0.9107\n",
      "Epoch 20/45\n",
      "1875/1875 [==============================] - 17s 9ms/step - loss: 0.2776 - accuracy: 0.9107 - val_loss: 0.2642 - val_accuracy: 0.9147\n",
      "Epoch 21/45\n",
      "1875/1875 [==============================] - 17s 9ms/step - loss: 0.2759 - accuracy: 0.9104 - val_loss: 0.2651 - val_accuracy: 0.9147\n",
      "Epoch 22/45\n",
      "1875/1875 [==============================] - 17s 9ms/step - loss: 0.2719 - accuracy: 0.9123 - val_loss: 0.2595 - val_accuracy: 0.9160\n",
      "Epoch 23/45\n",
      "1875/1875 [==============================] - 17s 9ms/step - loss: 0.2668 - accuracy: 0.9122 - val_loss: 0.2637 - val_accuracy: 0.9165\n",
      "Epoch 24/45\n",
      "1875/1875 [==============================] - 17s 9ms/step - loss: 0.2616 - accuracy: 0.9138 - val_loss: 0.2492 - val_accuracy: 0.9188\n",
      "Epoch 25/45\n",
      "1875/1875 [==============================] - 17s 9ms/step - loss: 0.2557 - accuracy: 0.9165 - val_loss: 0.2655 - val_accuracy: 0.9143\n",
      "Epoch 26/45\n",
      "1875/1875 [==============================] - 17s 9ms/step - loss: 0.2561 - accuracy: 0.9159 - val_loss: 0.2510 - val_accuracy: 0.9190\n",
      "Epoch 27/45\n",
      "1875/1875 [==============================] - 17s 9ms/step - loss: 0.2492 - accuracy: 0.9169 - val_loss: 0.2495 - val_accuracy: 0.9178\n",
      "Epoch 28/45\n",
      "1875/1875 [==============================] - 17s 9ms/step - loss: 0.2494 - accuracy: 0.9179 - val_loss: 0.2587 - val_accuracy: 0.9157\n",
      "Epoch 29/45\n",
      "1875/1875 [==============================] - 17s 9ms/step - loss: 0.2447 - accuracy: 0.9197 - val_loss: 0.2543 - val_accuracy: 0.9170\n",
      "Epoch 30/45\n",
      "1875/1875 [==============================] - 19s 10ms/step - loss: 0.2412 - accuracy: 0.9202 - val_loss: 0.2411 - val_accuracy: 0.9201\n",
      "Epoch 31/45\n",
      "1875/1875 [==============================] - 18s 10ms/step - loss: 0.2385 - accuracy: 0.9207 - val_loss: 0.2484 - val_accuracy: 0.9193\n",
      "Epoch 32/45\n",
      "1875/1875 [==============================] - 18s 10ms/step - loss: 0.2327 - accuracy: 0.9229 - val_loss: 0.2412 - val_accuracy: 0.9211\n",
      "Epoch 33/45\n",
      "1875/1875 [==============================] - 18s 10ms/step - loss: 0.2330 - accuracy: 0.9221 - val_loss: 0.2463 - val_accuracy: 0.9204\n",
      "Epoch 34/45\n",
      "1875/1875 [==============================] - 18s 10ms/step - loss: 0.2317 - accuracy: 0.9233 - val_loss: 0.2417 - val_accuracy: 0.9205\n",
      "Epoch 35/45\n",
      "1875/1875 [==============================] - 17s 9ms/step - loss: 0.2292 - accuracy: 0.9229 - val_loss: 0.2409 - val_accuracy: 0.9214\n",
      "Epoch 36/45\n",
      "1875/1875 [==============================] - 17s 9ms/step - loss: 0.2226 - accuracy: 0.9247 - val_loss: 0.2440 - val_accuracy: 0.9209\n",
      "Epoch 37/45\n",
      "1875/1875 [==============================] - 17s 9ms/step - loss: 0.2266 - accuracy: 0.9246 - val_loss: 0.2353 - val_accuracy: 0.9238\n",
      "Epoch 38/45\n",
      "1875/1875 [==============================] - 17s 9ms/step - loss: 0.2245 - accuracy: 0.9255 - val_loss: 0.2403 - val_accuracy: 0.9223\n",
      "Epoch 39/45\n",
      "1875/1875 [==============================] - 17s 9ms/step - loss: 0.2154 - accuracy: 0.9269 - val_loss: 0.2356 - val_accuracy: 0.9215\n",
      "Epoch 40/45\n",
      "1875/1875 [==============================] - 17s 9ms/step - loss: 0.2194 - accuracy: 0.9267 - val_loss: 0.2387 - val_accuracy: 0.9225\n",
      "Epoch 41/45\n",
      "1875/1875 [==============================] - 17s 9ms/step - loss: 0.2146 - accuracy: 0.9278 - val_loss: 0.2389 - val_accuracy: 0.9232\n",
      "Epoch 42/45\n",
      "1875/1875 [==============================] - 17s 9ms/step - loss: 0.2135 - accuracy: 0.9277 - val_loss: 0.2367 - val_accuracy: 0.9258\n",
      "Epoch 43/45\n",
      "1875/1875 [==============================] - 17s 9ms/step - loss: 0.2129 - accuracy: 0.9284 - val_loss: 0.2343 - val_accuracy: 0.9240\n",
      "Epoch 44/45\n",
      "1875/1875 [==============================] - 17s 9ms/step - loss: 0.2112 - accuracy: 0.9285 - val_loss: 0.2352 - val_accuracy: 0.9247\n",
      "Epoch 45/45\n",
      "1875/1875 [==============================] - 17s 9ms/step - loss: 0.2093 - accuracy: 0.9299 - val_loss: 0.2316 - val_accuracy: 0.9259\n"
     ]
    }
   ],
   "source": [
    "history = lenet.fit(X_train, y_train, epochs=45,\n",
    "                    validation_data=(X_valid, y_valid),\n",
    "                    callbacks=[keras.callbacks.EarlyStopping(patience=10, restore_best_weights=True)])"
   ]
  },
  {
   "cell_type": "code",
   "execution_count": 8,
   "id": "7bd314cd-a3f3-4063-bd1f-401128e3ad58",
   "metadata": {},
   "outputs": [
    {
     "name": "stdout",
     "output_type": "stream",
     "text": [
      " 22/275 [=>............................] - ETA: 1s - loss: 0.2777 - accuracy: 0.9048"
     ]
    },
    {
     "name": "stderr",
     "output_type": "stream",
     "text": [
      "2024-02-05 23:20:22.473532: I tensorflow/core/grappler/optimizers/custom_graph_optimizer_registry.cc:114] Plugin optimizer for device_type GPU is enabled.\n"
     ]
    },
    {
     "name": "stdout",
     "output_type": "stream",
     "text": [
      "275/275 [==============================] - 1s 5ms/step - loss: 0.2143 - accuracy: 0.9308\n"
     ]
    },
    {
     "data": {
      "text/plain": [
       "[0.2142838090658188, 0.9307875633239746]"
      ]
     },
     "execution_count": 8,
     "metadata": {},
     "output_type": "execute_result"
    }
   ],
   "source": [
    "# Valutazione delle prestazioni ottenute dalla rete LeNet-5\n",
    "lenet.evaluate(X_test, y_test)"
   ]
  },
  {
   "cell_type": "code",
   "execution_count": 9,
   "id": "40f5cc10-94c7-4146-9273-1ad8ffecb3c5",
   "metadata": {},
   "outputs": [
    {
     "name": "stdout",
     "output_type": "stream",
     "text": [
      "1/1 [==============================] - 0s 69ms/step\n"
     ]
    },
    {
     "name": "stderr",
     "output_type": "stream",
     "text": [
      "2024-02-05 23:20:23.926204: I tensorflow/core/grappler/optimizers/custom_graph_optimizer_registry.cc:114] Plugin optimizer for device_type GPU is enabled.\n"
     ]
    },
    {
     "data": {
      "text/plain": [
       "array([[0.  , 0.  , 0.  , 0.  , 0.  , 0.  , 1.  , 0.  , 0.  , 0.  , 0.  ,\n",
       "        0.  , 0.  , 0.  , 0.  , 0.  , 0.  , 0.  , 0.  , 0.  , 0.  , 0.  ,\n",
       "        0.  , 0.  , 0.  , 0.  ],\n",
       "       [0.  , 0.  , 0.  , 0.  , 0.  , 0.  , 0.  , 0.  , 0.  , 0.  , 0.  ,\n",
       "        0.  , 0.  , 0.  , 0.  , 1.  , 0.  , 0.  , 0.  , 0.  , 0.  , 0.  ,\n",
       "        0.  , 0.  , 0.  , 0.  ],\n",
       "       [0.  , 0.  , 0.  , 0.01, 0.  , 0.  , 0.  , 0.  , 0.  , 0.  , 0.  ,\n",
       "        0.  , 0.  , 0.  , 0.99, 0.  , 0.  , 0.  , 0.  , 0.  , 0.  , 0.  ,\n",
       "        0.  , 0.  , 0.  , 0.  ],\n",
       "       [0.  , 0.  , 0.  , 0.  , 0.  , 0.  , 0.  , 0.  , 0.  , 0.  , 0.  ,\n",
       "        0.  , 0.  , 0.62, 0.  , 0.  , 0.  , 0.  , 0.  , 0.  , 0.  , 0.  ,\n",
       "        0.38, 0.  , 0.  , 0.  ],\n",
       "       [0.  , 0.  , 0.  , 0.  , 0.01, 0.  , 0.01, 0.  , 0.  , 0.  , 0.  ,\n",
       "        0.  , 0.  , 0.  , 0.  , 0.  , 0.97, 0.  , 0.  , 0.  , 0.  , 0.  ,\n",
       "        0.  , 0.  , 0.  , 0.01],\n",
       "       [0.  , 0.  , 0.  , 0.  , 0.  , 0.  , 0.  , 0.  , 0.  , 0.  , 0.  ,\n",
       "        0.  , 1.  , 0.  , 0.  , 0.  , 0.  , 0.  , 0.  , 0.  , 0.  , 0.  ,\n",
       "        0.  , 0.  , 0.  , 0.  ],\n",
       "       [0.  , 0.  , 0.  , 0.  , 0.  , 0.  , 0.  , 0.  , 0.  , 0.  , 1.  ,\n",
       "        0.  , 0.  , 0.  , 0.  , 0.  , 0.  , 0.  , 0.  , 0.  , 0.  , 0.  ,\n",
       "        0.  , 0.  , 0.  , 0.  ],\n",
       "       [0.  , 0.  , 0.  , 0.  , 0.  , 0.  , 0.  , 0.  , 0.  , 0.  , 0.  ,\n",
       "        0.  , 0.  , 0.  , 0.  , 0.  , 0.  , 0.  , 0.  , 0.  , 0.  , 0.99,\n",
       "        0.  , 0.  , 0.  , 0.  ],\n",
       "       [0.  , 0.  , 0.  , 0.  , 0.  , 0.  , 0.  , 0.  , 0.  , 0.  , 0.  ,\n",
       "        0.  , 0.  , 0.  , 0.  , 0.  , 0.  , 0.  , 0.  , 0.  , 0.  , 0.  ,\n",
       "        0.  , 0.92, 0.07, 0.  ],\n",
       "       [0.  , 0.  , 0.  , 0.  , 0.  , 0.  , 0.  , 0.  , 0.27, 0.72, 0.  ,\n",
       "        0.  , 0.  , 0.  , 0.  , 0.  , 0.  , 0.  , 0.  , 0.01, 0.  , 0.  ,\n",
       "        0.  , 0.  , 0.  , 0.  ],\n",
       "       [0.01, 0.  , 0.  , 0.  , 0.  , 0.  , 0.  , 0.51, 0.  , 0.  , 0.  ,\n",
       "        0.  , 0.07, 0.25, 0.  , 0.  , 0.  , 0.  , 0.  , 0.  , 0.06, 0.  ,\n",
       "        0.1 , 0.  , 0.  , 0.  ],\n",
       "       [0.01, 0.  , 0.  , 0.  , 0.  , 0.  , 0.  , 0.04, 0.  , 0.  , 0.  ,\n",
       "        0.  , 0.  , 0.74, 0.  , 0.  , 0.  , 0.18, 0.  , 0.  , 0.01, 0.01,\n",
       "        0.  , 0.  , 0.  , 0.  ],\n",
       "       [0.  , 0.  , 0.  , 0.  , 0.  , 0.  , 0.  , 0.  , 0.  , 0.  , 0.  ,\n",
       "        0.  , 0.  , 0.  , 0.  , 0.  , 0.  , 0.  , 0.  , 0.  , 0.99, 0.  ,\n",
       "        0.  , 0.  , 0.  , 0.  ],\n",
       "       [0.  , 0.  , 0.  , 0.  , 0.  , 0.  , 0.  , 0.  , 0.  , 0.  , 0.  ,\n",
       "        0.  , 0.  , 0.  , 0.  , 0.  , 0.  , 0.  , 0.  , 0.  , 0.  , 0.  ,\n",
       "        0.  , 0.  , 0.  , 1.  ],\n",
       "       [0.  , 0.  , 0.  , 0.  , 0.  , 0.  , 0.  , 0.  , 0.  , 0.  , 0.  ,\n",
       "        0.  , 0.  , 0.  , 0.  , 0.  , 0.  , 0.  , 0.  , 0.  , 1.  , 0.  ,\n",
       "        0.  , 0.  , 0.  , 0.  ],\n",
       "       [0.  , 0.  , 0.  , 0.  , 0.  , 0.  , 0.  , 0.  , 0.  , 0.  , 0.  ,\n",
       "        0.  , 0.  , 0.  , 0.  , 0.  , 0.  , 0.  , 0.  , 0.  , 1.  , 0.  ,\n",
       "        0.  , 0.  , 0.  , 0.  ],\n",
       "       [0.  , 0.  , 0.  , 0.  , 0.  , 0.  , 0.  , 0.  , 0.  , 0.  , 0.03,\n",
       "        0.  , 0.  , 0.  , 0.  , 0.  , 0.  , 0.04, 0.  , 0.  , 0.  , 0.  ,\n",
       "        0.  , 0.92, 0.  , 0.  ],\n",
       "       [0.  , 0.  , 0.  , 0.  , 0.  , 0.  , 0.  , 0.  , 0.  , 0.  , 0.  ,\n",
       "        0.  , 0.  , 0.  , 0.  , 0.  , 0.  , 0.  , 1.  , 0.  , 0.  , 0.  ,\n",
       "        0.  , 0.  , 0.  , 0.  ],\n",
       "       [0.  , 0.  , 0.01, 0.  , 0.99, 0.  , 0.  , 0.  , 0.  , 0.  , 0.  ,\n",
       "        0.  , 0.  , 0.  , 0.  , 0.  , 0.  , 0.  , 0.  , 0.  , 0.  , 0.  ,\n",
       "        0.  , 0.  , 0.  , 0.  ],\n",
       "       [0.  , 1.  , 0.  , 0.  , 0.  , 0.  , 0.  , 0.  , 0.  , 0.  , 0.  ,\n",
       "        0.  , 0.  , 0.  , 0.  , 0.  , 0.  , 0.  , 0.  , 0.  , 0.  , 0.  ,\n",
       "        0.  , 0.  , 0.  , 0.  ]], dtype=float32)"
      ]
     },
     "execution_count": 9,
     "metadata": {},
     "output_type": "execute_result"
    }
   ],
   "source": [
    "\n",
    "X_new = X_test[:20]\n",
    "\n",
    "y_proba = lenet.predict(X_new)   \n",
    "\n",
    "y_proba.round(2)    "
   ]
  },
  {
   "cell_type": "code",
   "execution_count": 10,
   "id": "500c753e-7878-4a4f-801b-7043fef90317",
   "metadata": {},
   "outputs": [
    {
     "name": "stdout",
     "output_type": "stream",
     "text": [
      "1/1 [==============================] - 0s 11ms/step\n",
      "[ 6 15 14 13 16 12 10 21 23  9  7 13 20 25 20 20 23 18  4  1]\n"
     ]
    },
    {
     "data": {
      "text/plain": [
       "array(['g', 'p', 'o', 'n', 'q', 'm', 'k', 'v', 'x', 'j', 'h', 'n', 'u',\n",
       "       'z', 'u', 'u', 'x', 's', 'e', 'b'], dtype='<U1')"
      ]
     },
     "execution_count": 10,
     "metadata": {},
     "output_type": "execute_result"
    }
   ],
   "source": [
    "y_pred = np.argmax(lenet.predict(X_new), axis=-1)  \n",
    "print(y_pred)\n",
    "\n",
    "np.array(classes)[y_pred]"
   ]
  },
  {
   "cell_type": "code",
   "execution_count": 11,
   "id": "4d707762-d890-45b8-9ca0-4a2e1e322c9d",
   "metadata": {},
   "outputs": [
    {
     "data": {
      "text/plain": [
       "array(['g', 'p', 'o', 'w', 'q', 'm', 'k', 'v', 'x', 'j', 'n', 'r', 'u',\n",
       "       'z', 'u', 'u', 'x', 's', 'e', 'b'], dtype='<U1')"
      ]
     },
     "execution_count": 11,
     "metadata": {},
     "output_type": "execute_result"
    }
   ],
   "source": [
    "y_new = y_test[:20]\n",
    "np.array(classes)[y_new]  "
   ]
  },
  {
   "cell_type": "code",
   "execution_count": 12,
   "id": "c7cee79c-2296-4351-b6c0-9bd4f322526b",
   "metadata": {},
   "outputs": [
    {
     "data": {
      "image/png": "[encoded data removed]",
      "text/plain": [
       "<Figure size 2000x400 with 20 Axes>"
      ]
     },
     "metadata": {},
     "output_type": "display_data"
    }
   ],
   "source": [
    "import matplotlib as mpl\n",
    "import matplotlib.pyplot as plt\n",
    "\n",
    "n_rows = 2\n",
    "n_cols = 10\n",
    "plt.figure(figsize=(n_cols * 2, n_rows * 2))\n",
    "for row in range(n_rows):\n",
    "    for col in range(n_cols):\n",
    "        index = n_cols * row + col\n",
    "        plt.subplot(n_rows, n_cols, index + 1)\n",
    "        plt.imshow(X_new[index], cmap=\"binary\", interpolation=\"nearest\")\n",
    "        plt.axis('off')\n",
    "        plt.title(classes[y_new[index]], fontsize=12)\n",
    "plt.subplots_adjust(wspace=0.2, hspace=0.5)\n",
    "plt.show()"
   ]
  },
  {
   "cell_type": "code",
   "execution_count": 13,
   "id": "1c5bbe64-17b2-433e-a291-446c6c06c7c0",
   "metadata": {},
   "outputs": [
    {
     "name": "stdout",
     "output_type": "stream",
     "text": [
      "275/275 [==============================] - 1s 2ms/step\n",
      "              precision    recall  f1-score   support\n",
      "\n",
      "           0       0.88      0.93      0.90       340\n",
      "           1       0.95      0.94      0.95       313\n",
      "           2       0.94      0.96      0.95       365\n",
      "           3       0.98      0.95      0.96       334\n",
      "           4       0.96      0.93      0.94       330\n",
      "           5       0.96      0.96      0.96       320\n",
      "           6       0.92      0.75      0.83       329\n",
      "           7       0.93      0.95      0.94       355\n",
      "           8       0.75      0.77      0.76       349\n",
      "           9       0.95      0.95      0.95       364\n",
      "          10       0.98      0.95      0.97       339\n",
      "          11       0.73      0.76      0.75       341\n",
      "          12       0.99      0.96      0.98       356\n",
      "          13       0.91      0.96      0.93       315\n",
      "          14       0.97      0.98      0.97       327\n",
      "          15       0.99      0.96      0.98       350\n",
      "          16       0.83      0.90      0.87       326\n",
      "          17       0.95      0.96      0.95       312\n",
      "          18       0.98      0.97      0.97       357\n",
      "          19       0.95      0.97      0.96       340\n",
      "          20       0.90      0.98      0.94       361\n",
      "          21       0.97      0.90      0.93       349\n",
      "          22       1.00      0.96      0.98       348\n",
      "          23       0.96      0.98      0.97       321\n",
      "          24       0.95      0.95      0.95       328\n",
      "          25       0.96      0.98      0.97       330\n",
      "\n",
      "    accuracy                           0.93      8799\n",
      "   macro avg       0.93      0.93      0.93      8799\n",
      "weighted avg       0.93      0.93      0.93      8799\n",
      "\n"
     ]
    }
   ],
   "source": [
    "from sklearn.metrics import classification_report\n",
    "\n",
    "# Ora si effettua la predizione su tutto il test set\n",
    "y_pred = np.argmax(lenet.predict(X_test), axis=-1)\n",
    "\n",
    "print(classification_report(y_test, y_pred))"
   ]
  }
 ],
 "metadata": {
  "kernelspec": {
   "display_name": "Python 3 (ipykernel)",
   "language": "python",
   "name": "python3"
  },
  "language_info": {
   "codemirror_mode": {
    "name": "ipython",
    "version": 3
   },
   "file_extension": ".py",
   "mimetype": "text/x-python",
   "name": "python",
   "nbconvert_exporter": "python",
   "pygments_lexer": "ipython3",
   "version": "3.11.5"
  }
 },
 "nbformat": 4,
 "nbformat_minor": 5
}
